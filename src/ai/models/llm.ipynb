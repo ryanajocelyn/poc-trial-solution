{
 "cells": [
  {
   "cell_type": "code",
   "execution_count": 31,
   "metadata": {},
   "outputs": [],
   "source": [
    "import requests\n",
    "from dotenv import load_dotenv\n",
    "import os\n",
    "import json\n",
    "from llama_index.llms.gemini import Gemini\n",
    "\n",
    "from typing import Sequence, List\n",
    "\n",
    "from llama_index.llms.openai import OpenAI\n",
    "from llama_index.core.llms import ChatMessage\n",
    "from llama_index.core.tools import BaseTool, FunctionTool\n"
   ]
  },
  {
   "cell_type": "code",
   "execution_count": 19,
   "metadata": {},
   "outputs": [],
   "source": [
    "load_dotenv(\"D:\\\\Abiz\\\\Technical\\\\code\\\\python\\\\poc-trial-solution\\\\.env\")\n",
    "API_KEY = os.environ[\"GEMINI_API_KEY\"]\n",
    "API_URL = f\"https://generativelanguage.googleapis.com/v1beta/models/gemini-2.0-flash:generateContent?key={API_KEY}\""
   ]
  },
  {
   "cell_type": "code",
   "execution_count": 22,
   "metadata": {},
   "outputs": [],
   "source": [
    "data = {\n",
    "  \"contents\": [{\n",
    "    \"parts\":[{\"text\": \"Explain how AI works\"}]\n",
    "  }]\n",
    "}"
   ]
  },
  {
   "cell_type": "code",
   "execution_count": 24,
   "metadata": {},
   "outputs": [
    {
     "name": "stdout",
     "output_type": "stream",
     "text": [
      "{'candidates': [{'content': {'parts': [{'text': 'Alright, let\\'s break down how AI works, focusing on the key concepts without getting bogged down in too much technical jargon.\\n\\n**Core Idea: Making Machines Think (or Act Like They Think)**\\n\\nAt its heart, AI aims to create machines that can perform tasks that typically require human intelligence. This includes things like:\\n\\n*   **Learning:**  Improving performance over time based on experience.\\n*   **Problem Solving:** Figuring out how to achieve a goal, even when the solution isn\\'t immediately obvious.\\n*   **Decision Making:** Choosing the best course of action from a set of possibilities.\\n*   **Perception:** Understanding sensory input (like images, sound, or text).\\n*   **Understanding Natural Language:** Communicating with humans in their own languages.\\n\\n**How It\\'s Achieved: Key Techniques**\\n\\nAI is a broad field encompassing many techniques. Here are some of the most important:\\n\\n1.  **Machine Learning (ML): The Learning Algorithm**\\n\\n    *   This is the most popular and rapidly developing area of AI.  Instead of explicitly programming a machine to perform a task, you *train* it using large amounts of data.  The machine learns patterns and relationships from the data and uses those patterns to make predictions or decisions on new data.\\n\\n    *   **Think of it like teaching a dog a trick:** You don\\'t tell the dog *exactly* how to sit. You give it examples (you say \"sit\" and push its rear down), and reward it when it gets it right.  Eventually, the dog learns the association between the word \"sit\" and the action.\\n\\n    *   **Different Types of Machine Learning:**\\n\\n        *   **Supervised Learning:** The algorithm learns from labeled data. You provide the input *and* the correct output.  (e.g., showing it thousands of pictures of cats and labeling each one as \"cat\"). It learns to map inputs to outputs.\\n        *   **Unsupervised Learning:** The algorithm learns from unlabeled data.  It has to find patterns and structures on its own. (e.g., giving it a large dataset of customer transactions and letting it identify different customer segments).\\n        *   **Reinforcement Learning:** The algorithm learns by interacting with an environment and receiving rewards or penalties for its actions. (e.g., training a robot to walk by rewarding it for taking steps forward and penalizing it for falling).  This is often used in game playing.\\n\\n2.  **Neural Networks and Deep Learning: The Brain-Inspired Approach**\\n\\n    *   **Neural Networks:**  These are inspired by the structure of the human brain. They consist of interconnected nodes (neurons) organized in layers.  Each connection between nodes has a weight associated with it.  The network learns by adjusting these weights based on the data it\\'s trained on.\\n\\n    *   **Deep Learning:**  This is a type of neural network with many layers (hence \"deep\").  The more layers, the more complex patterns the network can learn. Deep learning has been particularly successful in image recognition, natural language processing, and other complex tasks.\\n\\n    *   **Analogy:** Imagine a factory assembly line. Each layer performs a specific task, passing the result to the next layer.  Deep learning uses many such layers to break down complex problems into smaller, more manageable steps.\\n\\n3.  **Natural Language Processing (NLP): Understanding and Generating Human Language**\\n\\n    *   This focuses on enabling computers to understand, interpret, and generate human language (like English, Spanish, etc.).\\n\\n    *   **Tasks include:**\\n        *   **Text classification:** Determining the category of a text (e.g., spam filtering).\\n        *   **Sentiment analysis:** Determining the emotional tone of a text (e.g., is a review positive or negative?).\\n        *   **Machine translation:** Translating text from one language to another.\\n        *   **Question answering:** Answering questions based on a given text.\\n        *   **Text generation:** Creating new text (e.g., writing articles or summaries).\\n\\n    *   **How it works:** NLP often involves a combination of techniques, including:\\n        *   **Tokenization:** Breaking text into individual words or phrases.\\n        *   **Part-of-speech tagging:** Identifying the grammatical role of each word (e.g., noun, verb, adjective).\\n        *   **Named entity recognition:** Identifying and classifying named entities (e.g., people, organizations, locations).\\n        *   **Word embeddings:** Representing words as vectors in a multi-dimensional space, capturing semantic relationships between words (e.g., \"king\" and \"queen\" are closer together than \"king\" and \"apple\").\\n\\n4.  **Computer Vision: Seeing and Understanding Images**\\n\\n    *   This field aims to enable computers to \"see\" and interpret images and videos.\\n\\n    *   **Tasks include:**\\n        *   **Image classification:** Identifying the objects in an image (e.g., \"cat,\" \"dog,\" \"car\").\\n        *   **Object detection:** Locating and identifying multiple objects in an image.\\n        *   **Image segmentation:** Dividing an image into different regions or segments.\\n        *   **Facial recognition:** Identifying individuals in images or videos.\\n\\n    *   **How it works:** Computer vision often relies on deep learning techniques, particularly convolutional neural networks (CNNs).  CNNs are designed to automatically learn features from images, such as edges, textures, and shapes.\\n\\n5.  **Expert Systems: Mimicking Expert Knowledge**\\n\\n    *   These systems are designed to mimic the reasoning and decision-making capabilities of human experts in a specific domain (e.g., medical diagnosis, financial planning).\\n\\n    *   **How it works:** They typically use a knowledge base containing facts and rules about the domain, along with an inference engine that applies these rules to new data to draw conclusions.  While less prominent than machine learning currently, they still have their uses.\\n\\n**The AI Development Process (Simplified)**\\n\\n1.  **Define the Problem:** Clearly identify what you want the AI to do.  What specific task are you trying to automate or improve?\\n2.  **Gather Data:** Collect a large and relevant dataset to train the AI model.  The quality and quantity of data are crucial.\\n3.  **Choose an Algorithm (or Architecture):** Select the appropriate machine learning algorithm or neural network architecture for the task.\\n4.  **Train the Model:** Feed the data into the algorithm, allowing it to learn patterns and relationships.\\n5.  **Evaluate the Model:** Test the model on a separate dataset to assess its performance and identify areas for improvement.\\n6.  **Fine-Tune the Model:** Adjust the model\\'s parameters and retrain it until it achieves the desired level of accuracy.\\n7.  **Deploy the Model:** Integrate the trained model into a real-world application.\\n8.  **Monitor and Maintain:** Continuously monitor the model\\'s performance and retrain it as needed to maintain accuracy.\\n\\n**Important Considerations**\\n\\n*   **Bias:** AI models can inherit biases from the data they are trained on, leading to unfair or discriminatory outcomes. It\\'s crucial to address bias in the data and the algorithms.\\n*   **Explainability:**  Some AI models, especially deep learning models, can be difficult to understand.  This can make it challenging to debug errors and ensure that the model is making decisions for the right reasons.  Efforts are being made to develop more explainable AI (XAI) techniques.\\n*   **Ethics:**  AI raises a number of ethical concerns, such as privacy, security, and the potential for job displacement.  It\\'s important to consider these ethical implications when developing and deploying AI systems.\\n*   **Data is King (or Queen):** The more high-quality, relevant data you have, the better your AI model will perform.\\n\\n**In a nutshell:**  AI uses various techniques to enable machines to learn from data, solve problems, and make decisions in a way that mimics human intelligence.  Machine learning, neural networks, natural language processing, and computer vision are some of the key areas within AI that are driving rapid advancements in technology.\\n\\nThis is a high-level overview. Each of these areas is vast and complex. Hopefully, this explanation gives you a solid foundation for understanding how AI works!\\n'}], 'role': 'model'}, 'finishReason': 'STOP', 'citationMetadata': {'citationSources': [{'startIndex': 2104, 'endIndex': 2240}, {'startIndex': 2488, 'endIndex': 2616}, {'startIndex': 2518, 'endIndex': 2654}, {'startIndex': 3734, 'endIndex': 3875}, {'startIndex': 4098, 'endIndex': 4287}, {'startIndex': 4210, 'endIndex': 4376}, {'startIndex': 4395, 'endIndex': 4519}]}, 'avgLogprobs': -0.25531815050681655}], 'usageMetadata': {'promptTokenCount': 4, 'candidatesTokenCount': 1765, 'totalTokenCount': 1769, 'promptTokensDetails': [{'modality': 'TEXT', 'tokenCount': 4}], 'candidatesTokensDetails': [{'modality': 'TEXT', 'tokenCount': 1765}]}, 'modelVersion': 'gemini-2.0-flash'}\n"
     ]
    }
   ],
   "source": [
    "headers = {\"Content-Type\": \"application/json\"}\n",
    "response = requests.post(API_URL, headers=headers, json=data)\n",
    "print(response.json())"
   ]
  },
  {
   "cell_type": "code",
   "execution_count": 26,
   "metadata": {},
   "outputs": [],
   "source": [
    "llm = Gemini(model=\"models/gemini-2.0-flash\", api_key=API_KEY)"
   ]
  },
  {
   "cell_type": "code",
   "execution_count": 30,
   "metadata": {},
   "outputs": [],
   "source": [
    "def multiply(a: int, b: int) -> int:\n",
    "    \"\"\"Multiple two integers and returns the result integer\"\"\"\n",
    "    return a * b\n",
    "\n",
    "\n",
    "multiply_tool = FunctionTool.from_defaults(fn=multiply)\n",
    "\n",
    "\n",
    "def add(a: int, b: int) -> int:\n",
    "    \"\"\"Add two integers and returns the result integer\"\"\"\n",
    "    return a + b\n",
    "\n",
    "\n",
    "add_tool = FunctionTool.from_defaults(fn=add)\n",
    "\n",
    "tools = [multiply_tool, add_tool]"
   ]
  },
  {
   "cell_type": "code",
   "execution_count": null,
   "metadata": {},
   "outputs": [],
   "source": [
    "agent = GeminiAgent.from_tools(tools, llm=llm, verbose=True)\n"
   ]
  },
  {
   "cell_type": "code",
   "execution_count": 27,
   "metadata": {},
   "outputs": [
    {
     "name": "stdout",
     "output_type": "stream",
     "text": [
      "A backpack old, of canvas brown,\n",
      "With patches stitched and worn renown,\n",
      "It hangs quite still, a humble sight,\n",
      "But holds within, a wondrous light.\n",
      "\n",
      "No ordinary straps and seams,\n",
      "This bag is woven from moonbeams,\n",
      "And whispers secrets, soft and low,\n",
      "Of places only dreams can know.\n",
      "\n",
      "Reach in your hand, and what you'll find,\n",
      "Depends on what's within your mind.\n",
      "A compass pointing to your heart,\n",
      "A map to tear the world apart.\n",
      "\n",
      "A feather light, from griffin's wing,\n",
      "A song the forest birds all sing,\n",
      "A vial filled with starlight bright,\n",
      "To banish shadows from the night.\n",
      "\n",
      "Need courage strong to face your fear?\n",
      "A lion's roar will fill your ear.\n",
      "A shield of hope, a sword of grace,\n",
      "To conquer darkness, find your place.\n",
      "\n",
      "But heed this warning, whispered low,\n",
      "The backpack's magic starts to flow,\n",
      "Only when used with honest intent,\n",
      "And kindness, freely, bravely sent.\n",
      "\n",
      "For greed and malice, dark and deep,\n",
      "Will find the magic fast asleep.\n",
      "The canvas fades, the colors dim,\n",
      "And leaves you empty, cold, and grim.\n",
      "\n",
      "So carry it with open hand,\n",
      "Explore the wonders of the land,\n",
      "And let the magic, pure and true,\n",
      "Unfold its wonders just for you.\n",
      "\n"
     ]
    }
   ],
   "source": [
    "resp = llm.complete(\"Write a poem about a magic backpack\")\n",
    "print(resp)"
   ]
  }
 ],
 "metadata": {
  "kernelspec": {
   "display_name": "venv",
   "language": "python",
   "name": "python3"
  },
  "language_info": {
   "codemirror_mode": {
    "name": "ipython",
    "version": 3
   },
   "file_extension": ".py",
   "mimetype": "text/x-python",
   "name": "python",
   "nbconvert_exporter": "python",
   "pygments_lexer": "ipython3",
   "version": "3.12.4"
  }
 },
 "nbformat": 4,
 "nbformat_minor": 2
}
